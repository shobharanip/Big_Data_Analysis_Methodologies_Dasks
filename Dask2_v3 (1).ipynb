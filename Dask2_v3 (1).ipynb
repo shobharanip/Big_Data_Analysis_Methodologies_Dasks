{
  "nbformat": 4,
  "nbformat_minor": 0,
  "metadata": {
    "colab": {
      "name": "Dask2.ipynb",
      "provenance": [],
      "collapsed_sections": []
    },
    "kernelspec": {
      "name": "python3",
      "display_name": "Python 3"
    },
    "language_info": {
      "name": "python"
    }
  },
  "cells": [
    {
      "cell_type": "code",
      "execution_count": null,
      "metadata": {
        "colab": {
          "base_uri": "https://localhost:8080/"
        },
        "id": "vDjPYU0ZXIQV",
        "outputId": "d1f19243-f606-478b-c221-c7654a2b7155"
      },
      "outputs": [
        {
          "output_type": "stream",
          "name": "stdout",
          "text": [
            "Looking in indexes: https://pypi.org/simple, https://us-python.pkg.dev/colab-wheels/public/simple/\n",
            "Requirement already satisfied: dask[dataframe] in /usr/local/lib/python3.7/dist-packages (2.12.0)\n",
            "Requirement already satisfied: numpy>=1.13.0 in /usr/local/lib/python3.7/dist-packages (from dask[dataframe]) (1.21.6)\n",
            "Collecting fsspec>=0.6.0\n",
            "  Downloading fsspec-2022.5.0-py3-none-any.whl (140 kB)\n",
            "\u001b[K     |████████████████████████████████| 140 kB 5.2 MB/s \n",
            "\u001b[?25hCollecting partd>=0.3.10\n",
            "  Downloading partd-1.2.0-py3-none-any.whl (19 kB)\n",
            "Requirement already satisfied: pandas>=0.23.0 in /usr/local/lib/python3.7/dist-packages (from dask[dataframe]) (1.3.5)\n",
            "Requirement already satisfied: toolz>=0.7.3 in /usr/local/lib/python3.7/dist-packages (from dask[dataframe]) (0.11.2)\n",
            "Requirement already satisfied: python-dateutil>=2.7.3 in /usr/local/lib/python3.7/dist-packages (from pandas>=0.23.0->dask[dataframe]) (2.8.2)\n",
            "Requirement already satisfied: pytz>=2017.3 in /usr/local/lib/python3.7/dist-packages (from pandas>=0.23.0->dask[dataframe]) (2022.1)\n",
            "Collecting locket\n",
            "  Downloading locket-1.0.0-py2.py3-none-any.whl (4.4 kB)\n",
            "Requirement already satisfied: six>=1.5 in /usr/local/lib/python3.7/dist-packages (from python-dateutil>=2.7.3->pandas>=0.23.0->dask[dataframe]) (1.15.0)\n",
            "Installing collected packages: locket, partd, fsspec\n",
            "Successfully installed fsspec-2022.5.0 locket-1.0.0 partd-1.2.0\n"
          ]
        }
      ],
      "source": [
        " # python -m pip install dask[dataframe] --upgrade  # or python -m pip install\n",
        " !pip install dask[dataframe]"
      ]
    },
    {
      "cell_type": "code",
      "source": [
        "!pip install dask"
      ],
      "metadata": {
        "colab": {
          "base_uri": "https://localhost:8080/"
        },
        "id": "uTas0JZmewD3",
        "outputId": "6d3105b7-d915-4547-c161-7e8e593121ac"
      },
      "execution_count": null,
      "outputs": [
        {
          "output_type": "stream",
          "name": "stdout",
          "text": [
            "Looking in indexes: https://pypi.org/simple, https://us-python.pkg.dev/colab-wheels/public/simple/\n",
            "Requirement already satisfied: dask in /usr/local/lib/python3.7/dist-packages (2.12.0)\n"
          ]
        }
      ]
    },
    {
      "cell_type": "code",
      "source": [
        "import dask.dataframe as dd\n",
        "from dask.diagnostics import ProgressBar \n",
        "from matplotlib import pyplot as plt  "
      ],
      "metadata": {
        "id": "HMi-zM8qe0jW"
      },
      "execution_count": null,
      "outputs": []
    },
    {
      "cell_type": "code",
      "source": [
        "! pip install requests\n",
        "! pip install aiohttp"
      ],
      "metadata": {
        "id": "zzkk7r5fgYFp",
        "colab": {
          "base_uri": "https://localhost:8080/"
        },
        "outputId": "34ff99a3-5967-45fb-d23c-a1f4ef875750"
      },
      "execution_count": null,
      "outputs": [
        {
          "output_type": "stream",
          "name": "stdout",
          "text": [
            "Looking in indexes: https://pypi.org/simple, https://us-python.pkg.dev/colab-wheels/public/simple/\n",
            "Requirement already satisfied: requests in /usr/local/lib/python3.7/dist-packages (2.23.0)\n",
            "Requirement already satisfied: certifi>=2017.4.17 in /usr/local/lib/python3.7/dist-packages (from requests) (2022.6.15)\n",
            "Requirement already satisfied: chardet<4,>=3.0.2 in /usr/local/lib/python3.7/dist-packages (from requests) (3.0.4)\n",
            "Requirement already satisfied: idna<3,>=2.5 in /usr/local/lib/python3.7/dist-packages (from requests) (2.10)\n",
            "Requirement already satisfied: urllib3!=1.25.0,!=1.25.1,<1.26,>=1.21.1 in /usr/local/lib/python3.7/dist-packages (from requests) (1.24.3)\n",
            "Looking in indexes: https://pypi.org/simple, https://us-python.pkg.dev/colab-wheels/public/simple/\n",
            "Collecting aiohttp\n",
            "  Downloading aiohttp-3.8.1-cp37-cp37m-manylinux_2_5_x86_64.manylinux1_x86_64.manylinux_2_12_x86_64.manylinux2010_x86_64.whl (1.1 MB)\n",
            "\u001b[K     |████████████████████████████████| 1.1 MB 4.9 MB/s \n",
            "\u001b[?25hCollecting frozenlist>=1.1.1\n",
            "  Downloading frozenlist-1.3.0-cp37-cp37m-manylinux_2_5_x86_64.manylinux1_x86_64.manylinux_2_17_x86_64.manylinux2014_x86_64.whl (144 kB)\n",
            "\u001b[K     |████████████████████████████████| 144 kB 20.6 MB/s \n",
            "\u001b[?25hCollecting aiosignal>=1.1.2\n",
            "  Downloading aiosignal-1.2.0-py3-none-any.whl (8.2 kB)\n",
            "Requirement already satisfied: typing-extensions>=3.7.4 in /usr/local/lib/python3.7/dist-packages (from aiohttp) (4.1.1)\n",
            "Collecting asynctest==0.13.0\n",
            "  Downloading asynctest-0.13.0-py3-none-any.whl (26 kB)\n",
            "Collecting yarl<2.0,>=1.0\n",
            "  Downloading yarl-1.7.2-cp37-cp37m-manylinux_2_5_x86_64.manylinux1_x86_64.manylinux_2_12_x86_64.manylinux2010_x86_64.whl (271 kB)\n",
            "\u001b[K     |████████████████████████████████| 271 kB 26.6 MB/s \n",
            "\u001b[?25hRequirement already satisfied: attrs>=17.3.0 in /usr/local/lib/python3.7/dist-packages (from aiohttp) (21.4.0)\n",
            "Collecting async-timeout<5.0,>=4.0.0a3\n",
            "  Downloading async_timeout-4.0.2-py3-none-any.whl (5.8 kB)\n",
            "Requirement already satisfied: charset-normalizer<3.0,>=2.0 in /usr/local/lib/python3.7/dist-packages (from aiohttp) (2.0.12)\n",
            "Collecting multidict<7.0,>=4.5\n",
            "  Downloading multidict-6.0.2-cp37-cp37m-manylinux_2_17_x86_64.manylinux2014_x86_64.whl (94 kB)\n",
            "\u001b[K     |████████████████████████████████| 94 kB 3.4 MB/s \n",
            "\u001b[?25hRequirement already satisfied: idna>=2.0 in /usr/local/lib/python3.7/dist-packages (from yarl<2.0,>=1.0->aiohttp) (2.10)\n",
            "Installing collected packages: multidict, frozenlist, yarl, asynctest, async-timeout, aiosignal, aiohttp\n",
            "Successfully installed aiohttp-3.8.1 aiosignal-1.2.0 async-timeout-4.0.2 asynctest-0.13.0 frozenlist-1.3.0 multidict-6.0.2 yarl-1.7.2\n"
          ]
        }
      ]
    },
    {
      "cell_type": "code",
      "source": [
        "\n",
        "#df = dd.read_csv('nyc-parking-tickets/*2017.csv')  \n",
        "import requests\n",
        "ddf = dd.read_csv('https://data.cityofnewyork.us/resource/2bnn-yakx.csv', blocksize=None)  \n",
        "ddf\n"
      ],
      "metadata": {
        "colab": {
          "base_uri": "https://localhost:8080/",
          "height": 192
        },
        "id": "tiSjheH3XXB3",
        "outputId": "9d5d5b82-1a05-4bbe-94f9-3474f646a80f"
      },
      "execution_count": 18,
      "outputs": [
        {
          "output_type": "execute_result",
          "data": {
            "text/plain": [
              "Dask DataFrame Structure:\n",
              "              summons_number plate_id registration_state plate_type issue_date violation_code vehicle_body_type vehicle_make issuing_agency street_code1 street_code2 street_code3 vehicle_expiration_date violation_location violation_precinct issuer_precinct issuer_code issuer_command issuer_squad violation_time time_first_observed violation_county violation_in_front_of_or_opposite house_number street_name intersecting_street date_first_observed law_section sub_division violation_legal_code days_parking_in_effect from_hours_in_effect to_hours_in_effect vehicle_color unregistered_vehicle vehicle_year meter_number feet_from_curb violation_post_code violation_description no_standing_or_stopping_violation hydrant_violation double_parking_violation\n",
              "npartitions=1                                                                                                                                                                                                                                                                                                                                                                                                                                                                                                                                                                                                                                                                                                                                                                  \n",
              "                       int64   object             object     object     object          int64            object       object         object        int64        int64        int64                   int64            float64              int64           int64       int64         object       object         object              object           object                            object       object      object              object               int64       int64       object               object                 object               object             object        object              float64        int64       object          int64              object                object                           float64           float64                  float64\n",
              "                         ...      ...                ...        ...        ...            ...               ...          ...            ...          ...          ...          ...                     ...                ...                ...             ...         ...            ...          ...            ...                 ...              ...                               ...          ...         ...                 ...                 ...         ...          ...                  ...                    ...                  ...                ...           ...                  ...          ...          ...            ...                 ...                   ...                               ...               ...                      ...\n",
              "Dask Name: from-delayed, 3 tasks"
            ],
            "text/html": [
              "<div><strong>Dask DataFrame Structure:</strong></div>\n",
              "<div>\n",
              "<style scoped>\n",
              "    .dataframe tbody tr th:only-of-type {\n",
              "        vertical-align: middle;\n",
              "    }\n",
              "\n",
              "    .dataframe tbody tr th {\n",
              "        vertical-align: top;\n",
              "    }\n",
              "\n",
              "    .dataframe thead th {\n",
              "        text-align: right;\n",
              "    }\n",
              "</style>\n",
              "<table border=\"1\" class=\"dataframe\">\n",
              "  <thead>\n",
              "    <tr style=\"text-align: right;\">\n",
              "      <th></th>\n",
              "      <th>summons_number</th>\n",
              "      <th>plate_id</th>\n",
              "      <th>registration_state</th>\n",
              "      <th>plate_type</th>\n",
              "      <th>issue_date</th>\n",
              "      <th>violation_code</th>\n",
              "      <th>vehicle_body_type</th>\n",
              "      <th>vehicle_make</th>\n",
              "      <th>issuing_agency</th>\n",
              "      <th>street_code1</th>\n",
              "      <th>street_code2</th>\n",
              "      <th>street_code3</th>\n",
              "      <th>vehicle_expiration_date</th>\n",
              "      <th>violation_location</th>\n",
              "      <th>violation_precinct</th>\n",
              "      <th>issuer_precinct</th>\n",
              "      <th>issuer_code</th>\n",
              "      <th>issuer_command</th>\n",
              "      <th>issuer_squad</th>\n",
              "      <th>violation_time</th>\n",
              "      <th>time_first_observed</th>\n",
              "      <th>violation_county</th>\n",
              "      <th>violation_in_front_of_or_opposite</th>\n",
              "      <th>house_number</th>\n",
              "      <th>street_name</th>\n",
              "      <th>intersecting_street</th>\n",
              "      <th>date_first_observed</th>\n",
              "      <th>law_section</th>\n",
              "      <th>sub_division</th>\n",
              "      <th>violation_legal_code</th>\n",
              "      <th>days_parking_in_effect</th>\n",
              "      <th>from_hours_in_effect</th>\n",
              "      <th>to_hours_in_effect</th>\n",
              "      <th>vehicle_color</th>\n",
              "      <th>unregistered_vehicle</th>\n",
              "      <th>vehicle_year</th>\n",
              "      <th>meter_number</th>\n",
              "      <th>feet_from_curb</th>\n",
              "      <th>violation_post_code</th>\n",
              "      <th>violation_description</th>\n",
              "      <th>no_standing_or_stopping_violation</th>\n",
              "      <th>hydrant_violation</th>\n",
              "      <th>double_parking_violation</th>\n",
              "    </tr>\n",
              "    <tr>\n",
              "      <th>npartitions=1</th>\n",
              "      <th></th>\n",
              "      <th></th>\n",
              "      <th></th>\n",
              "      <th></th>\n",
              "      <th></th>\n",
              "      <th></th>\n",
              "      <th></th>\n",
              "      <th></th>\n",
              "      <th></th>\n",
              "      <th></th>\n",
              "      <th></th>\n",
              "      <th></th>\n",
              "      <th></th>\n",
              "      <th></th>\n",
              "      <th></th>\n",
              "      <th></th>\n",
              "      <th></th>\n",
              "      <th></th>\n",
              "      <th></th>\n",
              "      <th></th>\n",
              "      <th></th>\n",
              "      <th></th>\n",
              "      <th></th>\n",
              "      <th></th>\n",
              "      <th></th>\n",
              "      <th></th>\n",
              "      <th></th>\n",
              "      <th></th>\n",
              "      <th></th>\n",
              "      <th></th>\n",
              "      <th></th>\n",
              "      <th></th>\n",
              "      <th></th>\n",
              "      <th></th>\n",
              "      <th></th>\n",
              "      <th></th>\n",
              "      <th></th>\n",
              "      <th></th>\n",
              "      <th></th>\n",
              "      <th></th>\n",
              "      <th></th>\n",
              "      <th></th>\n",
              "      <th></th>\n",
              "    </tr>\n",
              "  </thead>\n",
              "  <tbody>\n",
              "    <tr>\n",
              "      <th></th>\n",
              "      <td>int64</td>\n",
              "      <td>object</td>\n",
              "      <td>object</td>\n",
              "      <td>object</td>\n",
              "      <td>object</td>\n",
              "      <td>int64</td>\n",
              "      <td>object</td>\n",
              "      <td>object</td>\n",
              "      <td>object</td>\n",
              "      <td>int64</td>\n",
              "      <td>int64</td>\n",
              "      <td>int64</td>\n",
              "      <td>int64</td>\n",
              "      <td>float64</td>\n",
              "      <td>int64</td>\n",
              "      <td>int64</td>\n",
              "      <td>int64</td>\n",
              "      <td>object</td>\n",
              "      <td>object</td>\n",
              "      <td>object</td>\n",
              "      <td>object</td>\n",
              "      <td>object</td>\n",
              "      <td>object</td>\n",
              "      <td>object</td>\n",
              "      <td>object</td>\n",
              "      <td>object</td>\n",
              "      <td>int64</td>\n",
              "      <td>int64</td>\n",
              "      <td>object</td>\n",
              "      <td>object</td>\n",
              "      <td>object</td>\n",
              "      <td>object</td>\n",
              "      <td>object</td>\n",
              "      <td>object</td>\n",
              "      <td>float64</td>\n",
              "      <td>int64</td>\n",
              "      <td>object</td>\n",
              "      <td>int64</td>\n",
              "      <td>object</td>\n",
              "      <td>object</td>\n",
              "      <td>float64</td>\n",
              "      <td>float64</td>\n",
              "      <td>float64</td>\n",
              "    </tr>\n",
              "    <tr>\n",
              "      <th></th>\n",
              "      <td>...</td>\n",
              "      <td>...</td>\n",
              "      <td>...</td>\n",
              "      <td>...</td>\n",
              "      <td>...</td>\n",
              "      <td>...</td>\n",
              "      <td>...</td>\n",
              "      <td>...</td>\n",
              "      <td>...</td>\n",
              "      <td>...</td>\n",
              "      <td>...</td>\n",
              "      <td>...</td>\n",
              "      <td>...</td>\n",
              "      <td>...</td>\n",
              "      <td>...</td>\n",
              "      <td>...</td>\n",
              "      <td>...</td>\n",
              "      <td>...</td>\n",
              "      <td>...</td>\n",
              "      <td>...</td>\n",
              "      <td>...</td>\n",
              "      <td>...</td>\n",
              "      <td>...</td>\n",
              "      <td>...</td>\n",
              "      <td>...</td>\n",
              "      <td>...</td>\n",
              "      <td>...</td>\n",
              "      <td>...</td>\n",
              "      <td>...</td>\n",
              "      <td>...</td>\n",
              "      <td>...</td>\n",
              "      <td>...</td>\n",
              "      <td>...</td>\n",
              "      <td>...</td>\n",
              "      <td>...</td>\n",
              "      <td>...</td>\n",
              "      <td>...</td>\n",
              "      <td>...</td>\n",
              "      <td>...</td>\n",
              "      <td>...</td>\n",
              "      <td>...</td>\n",
              "      <td>...</td>\n",
              "      <td>...</td>\n",
              "    </tr>\n",
              "  </tbody>\n",
              "</table>\n",
              "</div>\n",
              "<div>Dask Name: from-delayed, 3 tasks</div>"
            ]
          },
          "metadata": {},
          "execution_count": 18
        }
      ]
    },
    {
      "cell_type": "code",
      "source": [
        "ddf.columns"
      ],
      "metadata": {
        "colab": {
          "base_uri": "https://localhost:8080/"
        },
        "id": "fNzstG009kPR",
        "outputId": "ff9724e4-3a22-423d-9077-4e6d34c770c8"
      },
      "execution_count": 19,
      "outputs": [
        {
          "output_type": "execute_result",
          "data": {
            "text/plain": [
              "Index(['summons_number', 'plate_id', 'registration_state', 'plate_type',\n",
              "       'issue_date', 'violation_code', 'vehicle_body_type', 'vehicle_make',\n",
              "       'issuing_agency', 'street_code1', 'street_code2', 'street_code3',\n",
              "       'vehicle_expiration_date', 'violation_location', 'violation_precinct',\n",
              "       'issuer_precinct', 'issuer_code', 'issuer_command', 'issuer_squad',\n",
              "       'violation_time', 'time_first_observed', 'violation_county',\n",
              "       'violation_in_front_of_or_opposite', 'house_number', 'street_name',\n",
              "       'intersecting_street', 'date_first_observed', 'law_section',\n",
              "       'sub_division', 'violation_legal_code', 'days_parking_in_effect',\n",
              "       'from_hours_in_effect', 'to_hours_in_effect', 'vehicle_color',\n",
              "       'unregistered_vehicle', 'vehicle_year', 'meter_number',\n",
              "       'feet_from_curb', 'violation_post_code', 'violation_description',\n",
              "       'no_standing_or_stopping_violation', 'hydrant_violation',\n",
              "       'double_parking_violation'],\n",
              "      dtype='object')"
            ]
          },
          "metadata": {},
          "execution_count": 19
        }
      ]
    },
    {
      "cell_type": "code",
      "source": [
        "# The output of listing 2.1 might not be what you expected. While Pandas would display a sample of the data\n",
        "#  when inspecting a Dask DataFrame, the metadata of the DataFrame is displayed. \n",
        "# Look at the datatype for each column\n",
        "# Dask was built to handle medium and large datasets that can’t be loaded into RAM at once.\n",
        "\n",
        "# DataFrames employ random sampling methods to profile and infer datatypes from a small sample of the data. \n",
        "# The npartitions value shows how many partitions the DataFrame is split into."
      ],
      "metadata": {
        "id": "2VQGlSy5ZYuF"
      },
      "execution_count": null,
      "outputs": []
    },
    {
      "cell_type": "markdown",
      "source": [
        "Taking advantage of parallelism like this could be very advantageous if the inc function took a long time to evaluate."
      ],
      "metadata": {
        "id": "BX_PIQxS-JFQ"
      }
    },
    {
      "cell_type": "code",
      "source": [
        "import dask.delayed as delayed\n",
        "from dask.diagnostics import ProgressBar \n",
        "\n",
        "def inc(i):\n",
        "   return i + 1\n",
        "\n",
        "def add(x, y):\n",
        "   return x + y\n",
        "\n",
        "x = delayed(inc)(1)\n",
        "y = delayed(inc)(2)\n",
        "z = delayed(add)(x, y)\n",
        "\n",
        "\n",
        "z.visualize() "
      ],
      "metadata": {
        "colab": {
          "base_uri": "https://localhost:8080/",
          "height": 391
        },
        "id": "WPtZdZ7TGTmR",
        "outputId": "613ba6f4-9cc9-473f-a119-207669d80149"
      },
      "execution_count": null,
      "outputs": [
        {
          "output_type": "execute_result",
          "data": {
            "text/plain": [
              "<IPython.core.display.Image object>"
            ],
            "image/png": "[encoded data removed]"
          },
          "metadata": {},
          "execution_count": 13
        }
      ]
    },
    {
      "cell_type": "code",
      "source": [
        "z"
      ],
      "metadata": {
        "colab": {
          "base_uri": "https://localhost:8080/"
        },
        "id": "_rrkbCdyxFVm",
        "outputId": "3e6319b5-d656-4f27-a422-5894120dba96"
      },
      "execution_count": null,
      "outputs": [
        {
          "output_type": "execute_result",
          "data": {
            "text/plain": [
              "Delayed('add-b0084344-9e8d-4c8c-9f2d-91ab46ce867c')"
            ]
          },
          "metadata": {},
          "execution_count": 14
        }
      ]
    },
    {
      "cell_type": "code",
      "source": [
        "z.compute()"
      ],
      "metadata": {
        "colab": {
          "base_uri": "https://localhost:8080/"
        },
        "id": "qAKEVz54w-fQ",
        "outputId": "e8c0bba3-93b6-489c-eab0-874eef15c9dd"
      },
      "execution_count": null,
      "outputs": [
        {
          "output_type": "execute_result",
          "data": {
            "text/plain": [
              "5"
            ]
          },
          "metadata": {},
          "execution_count": 15
        }
      ]
    },
    {
      "cell_type": "markdown",
      "source": [
        "Visualizing more complex DAGs with loops and collections"
      ],
      "metadata": {
        "id": "q3CLxoB9-S1Y"
      }
    },
    {
      "cell_type": "code",
      "source": [
        "def add_two(x):\n",
        "    return x + 2\n",
        "\n",
        "def sum_two_numbers(x,y):\n",
        "    return x + y\n",
        "\n",
        "def multiply_four(x):\n",
        "    return x * 4\n",
        "\n",
        "data = [1, 5, 8, 10]\n",
        "\n",
        "step1 = [delayed(add_two)(i) for i in data]\n",
        "total = delayed(sum)(step1)\n",
        "total.visualize()"
      ],
      "metadata": {
        "id": "o8OQSW9FGmLa",
        "outputId": "d1ca8ca4-2b7d-4799-efe1-df72e98ed923",
        "colab": {
          "base_uri": "https://localhost:8080/",
          "height": 454
        }
      },
      "execution_count": null,
      "outputs": [
        {
          "output_type": "execute_result",
          "data": {
            "text/plain": [
              "<IPython.core.display.Image object>"
            ],
            "image/png": "[encoded data removed]"
          },
          "metadata": {},
          "execution_count": 16
        }
      ]
    },
    {
      "cell_type": "code",
      "source": [
        "def add_two(x):\n",
        "    return x + 2\n",
        "\n",
        "def sum_two_numbers(x,y):\n",
        "    return x + y\n",
        "\n",
        "def multiply_four(x):\n",
        "    return x * 4\n",
        "\n",
        "data = [1, 5, 8, 10]\n",
        "\n",
        "step1 = [delayed(add_two)(i) for i in data]\n",
        "step2 = [delayed(multiply_four)(j) for j in step1]\n",
        "total = delayed(sum)(step2)\n",
        "total.visualize()"
      ],
      "metadata": {
        "id": "2pv4TjWH4HYZ",
        "colab": {
          "base_uri": "https://localhost:8080/",
          "height": 767
        },
        "outputId": "82251bd9-6c01-4b87-80c0-50e821c6c72f"
      },
      "execution_count": 20,
      "outputs": [
        {
          "output_type": "execute_result",
          "data": {
            "text/plain": [
              "<IPython.core.display.Image object>"
            ],
            "image/png": "[encoded data removed]"
          },
          "metadata": {},
          "execution_count": 20
        }
      ]
    },
    {
      "cell_type": "code",
      "source": [
        "total.compute()"
      ],
      "metadata": {
        "colab": {
          "base_uri": "https://localhost:8080/"
        },
        "id": "1Nuhwdr_ChMs",
        "outputId": "f47069c9-d565-48a7-cee2-4cba1359d91c"
      },
      "execution_count": 21,
      "outputs": [
        {
          "output_type": "execute_result",
          "data": {
            "text/plain": [
              "128"
            ]
          },
          "metadata": {},
          "execution_count": 21
        }
      ]
    }
  ]
}